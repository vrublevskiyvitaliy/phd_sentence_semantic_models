{
  "cells": [
    {
      "cell_type": "code",
      "execution_count": null,
      "metadata": {
        "id": "BjU8LUmrBoyt"
      },
      "outputs": [],
      "source": [
        "%%capture\n",
        "!pip install datasets transformers==4.28.0 evaluate"
      ]
    },
    {
      "cell_type": "code",
      "execution_count": null,
      "metadata": {
        "id": "-GS53YLWdP1M"
      },
      "outputs": [],
      "source": [
        "%%capture\n",
        "!rm -rf phd_sentence_semantic_models\n",
        "!git clone https://github.com/vrublevskiyvitaliy/phd_sentence_semantic_models.git"
      ]
    },
    {
      "cell_type": "code",
      "execution_count": null,
      "metadata": {
        "colab": {
          "base_uri": "https://localhost:8080/"
        },
        "id": "PEHEMpfVgWe1",
        "outputId": "b2accb82-55ce-41e0-e37c-f40a20e84f3b"
      },
      "outputs": [
        {
          "name": "stderr",
          "output_type": "stream",
          "text": [
            "[nltk_data] Downloading package punkt to /root/nltk_data...\n",
            "[nltk_data]   Package punkt is already up-to-date!\n",
            "[nltk_data] Downloading package averaged_perceptron_tagger to\n",
            "[nltk_data]     /root/nltk_data...\n",
            "[nltk_data]   Package averaged_perceptron_tagger is already up-to-\n",
            "[nltk_data]       date!\n"
          ]
        }
      ],
      "source": [
        "import torch\n",
        "import evaluate\n",
        "\n",
        "from transformers import AutoTokenizer, BertConfig, DataCollatorWithPadding, get_scheduler, AutoConfig\n",
        "from transformers.utils import PaddingStrategy\n",
        "from torch.utils.data import DataLoader\n",
        "from transformers.tokenization_utils_base import TruncationStrategy\n",
        "\n",
        "from datasets import load_dataset, load_metric\n",
        "from functools import partial\n",
        "\n",
        "from tqdm.auto import tqdm\n",
        "\n",
        "from torch.optim import AdamW\n",
        "\n",
        "# Mine from repo\n",
        "from phd_sentence_semantic_models.models.deberta_model_classic import DebertaForSequenceClassificationClassic\n",
        "from phd_sentence_semantic_models.models.bert_tokeniser_with_pos_tags import preprocess_dataset_with_pos_tags\n",
        "from phd_sentence_semantic_models.utils.seed import init_seed\n",
        "from phd_sentence_semantic_models.utils.train_eval_cycle import train_eval_test"
      ]
    },
    {
      "cell_type": "code",
      "execution_count": null,
      "metadata": {
        "id": "J7A6z_AzziJa"
      },
      "outputs": [],
      "source": [
        "import warnings\n",
        "\n",
        "warnings.filterwarnings('ignore')"
      ]
    },
    {
      "cell_type": "code",
      "execution_count": null,
      "metadata": {
        "id": "Y1zV1tLoKzCf"
      },
      "outputs": [],
      "source": [
        "# GLOBALS\n",
        "\n",
        "device = torch.device(\"cuda\" if torch.cuda.is_available() else \"cpu\")\n",
        "\n",
        "MAX_LEN = 512\n",
        "BATCH_SIZE = 16\n",
        "TRUNCATION = TruncationStrategy.LONGEST_FIRST\n",
        "PADDING=PaddingStrategy.MAX_LENGTH\n",
        "SEED = 42\n",
        "LR = 2e-5\n",
        "NUM_TRAIN_EPOCHS = 10\n",
        "\n",
        "model_name = \"microsoft/deberta-base\""
      ]
    },
    {
      "cell_type": "code",
      "execution_count": null,
      "metadata": {
        "id": "RVxkjRgRnPmE"
      },
      "outputs": [],
      "source": [
        "# INITIALISATION\n",
        "init_seed(SEED)"
      ]
    },
    {
      "cell_type": "code",
      "execution_count": null,
      "metadata": {
        "colab": {
          "base_uri": "https://localhost:8080/"
        },
        "id": "eJyJ2-HZKzCg",
        "outputId": "929e2ec4-53fe-4650-c32a-14ab21ba917a"
      },
      "outputs": [
        {
          "name": "stderr",
          "output_type": "stream",
          "text": [
            "Some weights of the model checkpoint at microsoft/deberta-base were not used when initializing DebertaForSequenceClassificationClassic: ['lm_predictions.lm_head.dense.bias', 'lm_predictions.lm_head.LayerNorm.bias', 'lm_predictions.lm_head.bias', 'lm_predictions.lm_head.dense.weight', 'lm_predictions.lm_head.LayerNorm.weight']\n",
            "- This IS expected if you are initializing DebertaForSequenceClassificationClassic from the checkpoint of a model trained on another task or with another architecture (e.g. initializing a BertForSequenceClassification model from a BertForPreTraining model).\n",
            "- This IS NOT expected if you are initializing DebertaForSequenceClassificationClassic from the checkpoint of a model that you expect to be exactly identical (initializing a BertForSequenceClassification model from a BertForSequenceClassification model).\n",
            "Some weights of DebertaForSequenceClassificationClassic were not initialized from the model checkpoint at microsoft/deberta-base and are newly initialized: ['pooler.dense.bias', 'classifier.weight', 'pooler.dense.weight', 'classifier.bias']\n",
            "You should probably TRAIN this model on a down-stream task to be able to use it for predictions and inference.\n"
          ]
        },
        {
          "data": {
            "text/plain": [
              "DebertaForSequenceClassificationClassic(\n",
              "  (deberta): DebertaModelClassic(\n",
              "    (embeddings): DebertaEmbeddingsClassic(\n",
              "      (word_embeddings): Embedding(50265, 768, padding_idx=0)\n",
              "      (LayerNorm): DebertaLayerNorm()\n",
              "      (dropout): StableDropout()\n",
              "    )\n",
              "    (encoder): DebertaEncoder(\n",
              "      (layer): ModuleList(\n",
              "        (0-11): 12 x DebertaLayer(\n",
              "          (attention): DebertaAttention(\n",
              "            (self): DisentangledSelfAttention(\n",
              "              (in_proj): Linear(in_features=768, out_features=2304, bias=False)\n",
              "              (pos_dropout): StableDropout()\n",
              "              (pos_proj): Linear(in_features=768, out_features=768, bias=False)\n",
              "              (pos_q_proj): Linear(in_features=768, out_features=768, bias=True)\n",
              "              (dropout): StableDropout()\n",
              "            )\n",
              "            (output): DebertaSelfOutput(\n",
              "              (dense): Linear(in_features=768, out_features=768, bias=True)\n",
              "              (LayerNorm): DebertaLayerNorm()\n",
              "              (dropout): StableDropout()\n",
              "            )\n",
              "          )\n",
              "          (intermediate): DebertaIntermediate(\n",
              "            (dense): Linear(in_features=768, out_features=3072, bias=True)\n",
              "            (intermediate_act_fn): GELUActivation()\n",
              "          )\n",
              "          (output): DebertaOutput(\n",
              "            (dense): Linear(in_features=3072, out_features=768, bias=True)\n",
              "            (LayerNorm): DebertaLayerNorm()\n",
              "            (dropout): StableDropout()\n",
              "          )\n",
              "        )\n",
              "      )\n",
              "      (rel_embeddings): Embedding(1024, 768)\n",
              "    )\n",
              "  )\n",
              "  (pooler): ContextPooler(\n",
              "    (dense): Linear(in_features=768, out_features=768, bias=True)\n",
              "    (dropout): StableDropout()\n",
              "  )\n",
              "  (classifier): Linear(in_features=768, out_features=2, bias=True)\n",
              "  (dropout): StableDropout()\n",
              ")"
            ]
          },
          "execution_count": 7,
          "metadata": {},
          "output_type": "execute_result"
        }
      ],
      "source": [
        "model_tokenizer = AutoTokenizer.from_pretrained(model_name)\n",
        "\n",
        "config = AutoConfig.from_pretrained(model_name)\n",
        "model = DebertaForSequenceClassificationClassic.from_pretrained(model_name,config=config)\n",
        "\n",
        "model.to(device)"
      ]
    },
    {
      "cell_type": "code",
      "execution_count": null,
      "metadata": {
        "colab": {
          "base_uri": "https://localhost:8080/",
          "height": 86,
          "referenced_widgets": [
            "db0846d8b8c74841914db260cfbd0621",
            "3e06386d222b41ff90fa8f45d07c44d9",
            "e746b6bc031a46728f7993d1e52f4673",
            "a87362e7e46e46b28ac77254df0601c3",
            "175730616b634d0686970a58514dee87",
            "6939833818f14bad8e1d16e073989bf8",
            "58598f1bef504dceaf208b702371bc2f",
            "8bd7fdb6a1b24005a3427250a44a1895",
            "88478a07862d4d33ad5e922f9aedd5f3",
            "63094e5ec49c482d8b94ba1fa329a9fd",
            "3bb7855b420040dfa9d547ada466b874"
          ]
        },
        "id": "xs-vdUzJpdRt",
        "outputId": "65db1dcb-052d-414b-d869-37a0b0fcc5ff"
      },
      "outputs": [
        {
          "data": {
            "application/vnd.jupyter.widget-view+json": {
              "model_id": "db0846d8b8c74841914db260cfbd0621",
              "version_major": 2,
              "version_minor": 0
            },
            "text/plain": [
              "Map:   0%|          | 0/408 [00:00<?, ? examples/s]"
            ]
          },
          "metadata": {},
          "output_type": "display_data"
        },
        {
          "name": "stderr",
          "output_type": "stream",
          "text": [
            "You're using a DebertaTokenizerFast tokenizer. Please note that with a fast tokenizer, using the `__call__` method is faster than using a method to encode the text followed by a call to the `pad` method to get a padded encoding.\n"
          ]
        }
      ],
      "source": [
        "dataset_train = load_dataset(\"glue\", 'mrpc', split=\"train\")\n",
        "dataset_eval = load_dataset(\"glue\", 'mrpc', split=\"validation\")\n",
        "dataset_test = load_dataset(\"glue\", 'mrpc', split=\"test\")\n",
        "\n",
        "preprocess_dataset_with_pos_tags_full = partial(\n",
        "    preprocess_dataset_with_pos_tags,\n",
        "    tokenizer=model_tokenizer,\n",
        "    truncation=TRUNCATION,\n",
        "    max_length=MAX_LEN,\n",
        "    padding=PADDING,\n",
        "  )\n",
        "\n",
        "collator = DataCollatorWithPadding(model_tokenizer)\n",
        "\n",
        "def prepare_dataloader(dataset, collator):\n",
        "  dataset = dataset.map(preprocess_dataset_with_pos_tags_full, batched=False)\n",
        "  dataset = dataset.remove_columns([\"sentence1\", \"sentence2\", \"idx\", \"pos_tag_ids\"])\n",
        "  dataset = dataset.rename_column(\"label\", \"labels\")\n",
        "  dataset.set_format(\"torch\")\n",
        "  dataloader = DataLoader(dataset, batch_size=BATCH_SIZE, collate_fn=collator)\n",
        "  return dataloader\n",
        "\n",
        "\n",
        "train_dataloader = prepare_dataloader(dataset_train, collator)\n",
        "eval_dataloader = prepare_dataloader(dataset_eval, collator)\n",
        "test_dataloader = prepare_dataloader(dataset_test, collator)"
      ]
    },
    {
      "cell_type": "code",
      "execution_count": null,
      "metadata": {
        "id": "l68jTgPyElzg"
      },
      "outputs": [],
      "source": [
        "optimizer = AdamW(model.parameters(), lr=LR)\n",
        "\n",
        "num_training_steps = NUM_TRAIN_EPOCHS * len(train_dataloader)\n",
        "lr_scheduler = get_scheduler(\n",
        "    name=\"linear\", optimizer=optimizer, num_warmup_steps=0, num_training_steps=num_training_steps\n",
        ")"
      ]
    },
    {
      "cell_type": "code",
      "execution_count": null,
      "metadata": {
        "colab": {
          "base_uri": "https://localhost:8080/",
          "height": 917,
          "referenced_widgets": [
            "8fd6c956c07b4f45ae406f8d4dcd7398",
            "0bd8430020a244d399f07ec7d6951bb6",
            "658d3a10031f41f7b17a2b1acd9a3ad7",
            "827af3099ba1421ea9dd02bcb83c6bf1",
            "238e4130321547f487533f13bf5a0ff7",
            "13c201b29a0f4bd48849dd2fae7f36e3",
            "c2115ca152dd47b4aba17849552d92e5",
            "62e4b2ad597d487ea4175ad65e628b6f",
            "5a6d4a38a7ff4d25babde2bc02e5cdb6",
            "614320b886ad4785bfe36225c5eecbca",
            "9ba2023fc84d425bac55eb86d32417ef"
          ]
        },
        "id": "_k20B1xRFHzr",
        "outputId": "680c5796-9ea9-4c43-e586-3aad2c0cdb67"
      },
      "outputs": [
        {
          "data": {
            "application/vnd.jupyter.widget-view+json": {
              "model_id": "8fd6c956c07b4f45ae406f8d4dcd7398",
              "version_major": 2,
              "version_minor": 0
            },
            "text/plain": [
              "  0%|          | 0/2300 [00:00<?, ?it/s]"
            ]
          },
          "metadata": {},
          "output_type": "display_data"
        },
        {
          "name": "stdout",
          "output_type": "stream",
          "text": [
            "Epoch 0\n",
            "Eval accuracy 0.8922\n",
            "Eval F1 0.9236\n",
            "Test accuracy 0.8597\n",
            "Test F1 0.8999\n",
            "Epoch 1\n",
            "Eval accuracy 0.8946\n",
            "Eval F1 0.9228\n",
            "Test accuracy 0.8846\n",
            "Test F1 0.9123\n",
            "Epoch 2\n",
            "Eval accuracy 0.8946\n",
            "Eval F1 0.9244\n",
            "Test accuracy 0.8835\n",
            "Test F1 0.9146\n",
            "Epoch 3\n",
            "Eval accuracy 0.8946\n",
            "Eval F1 0.9239\n",
            "Test accuracy 0.8870\n",
            "Test F1 0.9158\n",
            "Epoch 4\n",
            "Eval accuracy 0.8922\n",
            "Eval F1 0.9217\n",
            "Test accuracy 0.8899\n",
            "Test F1 0.9171\n",
            "Epoch 5\n",
            "Eval accuracy 0.8897\n",
            "Eval F1 0.9201\n",
            "Test accuracy 0.8846\n",
            "Test F1 0.9132\n",
            "Epoch 6\n",
            "Eval accuracy 0.8922\n",
            "Eval F1 0.9228\n",
            "Test accuracy 0.8881\n",
            "Test F1 0.9174\n",
            "Epoch 7\n",
            "Eval accuracy 0.8873\n",
            "Eval F1 0.9207\n",
            "Test accuracy 0.8823\n",
            "Test F1 0.9152\n",
            "Epoch 8\n",
            "Eval accuracy 0.8897\n",
            "Eval F1 0.9212\n",
            "Test accuracy 0.8910\n",
            "Test F1 0.9198\n",
            "Epoch 9\n",
            "Eval accuracy 0.8897\n",
            "Eval F1 0.9217\n",
            "Test accuracy 0.8887\n",
            "Test F1 0.9189\n"
          ]
        }
      ],
      "source": [
        "train_eval_test(\n",
        "    model = model,\n",
        "    optimizer = optimizer,\n",
        "    lr_scheduler = lr_scheduler,\n",
        "    train_dataloader = train_dataloader,\n",
        "    eval_dataloader = eval_dataloader,\n",
        "    test_dataloader = test_dataloader,\n",
        "    num_train_epochs = NUM_TRAIN_EPOCHS,\n",
        "    num_training_steps = num_training_steps,\n",
        "    device = device,\n",
        ")"
      ]
    },
    {
      "cell_type": "code",
      "execution_count": null,
      "metadata": {
        "id": "pVslpz3OwjF5"
      },
      "outputs": [],
      "source": [
        "# Epoch 0\n",
        "# Eval accuracy 0.8922\n",
        "# Eval F1 0.9236\n",
        "# Test accuracy 0.8597\n",
        "# Test F1 0.8999\n",
        "# Epoch 1\n",
        "# Eval accuracy 0.8946\n",
        "# Eval F1 0.9228\n",
        "# Test accuracy 0.8846\n",
        "# Test F1 0.9123\n",
        "# Epoch 2\n",
        "# Eval accuracy 0.8946\n",
        "# Eval F1 0.9244\n",
        "# Test accuracy 0.8835\n",
        "# Test F1 0.9146\n",
        "# Epoch 3\n",
        "# Eval accuracy 0.8946\n",
        "# Eval F1 0.9239\n",
        "# Test accuracy 0.8870\n",
        "# Test F1 0.9158\n",
        "# Epoch 4\n",
        "# Eval accuracy 0.8922\n",
        "# Eval F1 0.9217\n",
        "# Test accuracy 0.8899\n",
        "# Test F1 0.9171\n",
        "# Epoch 5\n",
        "# Eval accuracy 0.8897\n",
        "# Eval F1 0.9201\n",
        "# Test accuracy 0.8846\n",
        "# Test F1 0.9132\n",
        "# Epoch 6\n",
        "# Eval accuracy 0.8922\n",
        "# Eval F1 0.9228\n",
        "# Test accuracy 0.8881\n",
        "# Test F1 0.9174\n",
        "# Epoch 7\n",
        "# Eval accuracy 0.8873\n",
        "# Eval F1 0.9207\n",
        "# Test accuracy 0.8823\n",
        "# Test F1 0.9152\n",
        "# Epoch 8\n",
        "# Eval accuracy 0.8897\n",
        "# Eval F1 0.9212\n",
        "# Test accuracy 0.8910\n",
        "# Test F1 0.9198\n",
        "# Epoch 9\n",
        "# Eval accuracy 0.8897\n",
        "# Eval F1 0.9217\n",
        "# Test accuracy 0.8887\n",
        "# Test F1 0.9189"
      ]
    }
  ],
  "metadata": {
    "accelerator": "GPU",
    "colab": {
      "gpuType": "A100",
      "machine_shape": "hm",
      "provenance": []
    },
    "kernelspec": {
      "display_name": "Python 3",
      "name": "python3"
    },
    "language_info": {
      "codemirror_mode": {
        "name": "ipython",
        "version": 3
      },
      "file_extension": ".py",
      "mimetype": "text/x-python",
      "name": "python",
      "nbconvert_exporter": "python",
      "pygments_lexer": "ipython3",
      "version": "3.8.10"
    },
    "orig_nbformat": 4,
    "vscode": {
      "interpreter": {
        "hash": "31f2aee4e71d21fbe5cf8b01ff0e069b9275f58929596ceb00d14d90e3e16cd6"
      }
    },
    "widgets": {
      "application/vnd.jupyter.widget-state+json": {
        "0bd8430020a244d399f07ec7d6951bb6": {
          "model_module": "@jupyter-widgets/controls",
          "model_module_version": "1.5.0",
          "model_name": "HTMLModel",
          "state": {
            "_dom_classes": [],
            "_model_module": "@jupyter-widgets/controls",
            "_model_module_version": "1.5.0",
            "_model_name": "HTMLModel",
            "_view_count": null,
            "_view_module": "@jupyter-widgets/controls",
            "_view_module_version": "1.5.0",
            "_view_name": "HTMLView",
            "description": "",
            "description_tooltip": null,
            "layout": "IPY_MODEL_13c201b29a0f4bd48849dd2fae7f36e3",
            "placeholder": "​",
            "style": "IPY_MODEL_c2115ca152dd47b4aba17849552d92e5",
            "value": "100%"
          }
        },
        "13c201b29a0f4bd48849dd2fae7f36e3": {
          "model_module": "@jupyter-widgets/base",
          "model_module_version": "1.2.0",
          "model_name": "LayoutModel",
          "state": {
            "_model_module": "@jupyter-widgets/base",
            "_model_module_version": "1.2.0",
            "_model_name": "LayoutModel",
            "_view_count": null,
            "_view_module": "@jupyter-widgets/base",
            "_view_module_version": "1.2.0",
            "_view_name": "LayoutView",
            "align_content": null,
            "align_items": null,
            "align_self": null,
            "border": null,
            "bottom": null,
            "display": null,
            "flex": null,
            "flex_flow": null,
            "grid_area": null,
            "grid_auto_columns": null,
            "grid_auto_flow": null,
            "grid_auto_rows": null,
            "grid_column": null,
            "grid_gap": null,
            "grid_row": null,
            "grid_template_areas": null,
            "grid_template_columns": null,
            "grid_template_rows": null,
            "height": null,
            "justify_content": null,
            "justify_items": null,
            "left": null,
            "margin": null,
            "max_height": null,
            "max_width": null,
            "min_height": null,
            "min_width": null,
            "object_fit": null,
            "object_position": null,
            "order": null,
            "overflow": null,
            "overflow_x": null,
            "overflow_y": null,
            "padding": null,
            "right": null,
            "top": null,
            "visibility": null,
            "width": null
          }
        },
        "175730616b634d0686970a58514dee87": {
          "model_module": "@jupyter-widgets/base",
          "model_module_version": "1.2.0",
          "model_name": "LayoutModel",
          "state": {
            "_model_module": "@jupyter-widgets/base",
            "_model_module_version": "1.2.0",
            "_model_name": "LayoutModel",
            "_view_count": null,
            "_view_module": "@jupyter-widgets/base",
            "_view_module_version": "1.2.0",
            "_view_name": "LayoutView",
            "align_content": null,
            "align_items": null,
            "align_self": null,
            "border": null,
            "bottom": null,
            "display": null,
            "flex": null,
            "flex_flow": null,
            "grid_area": null,
            "grid_auto_columns": null,
            "grid_auto_flow": null,
            "grid_auto_rows": null,
            "grid_column": null,
            "grid_gap": null,
            "grid_row": null,
            "grid_template_areas": null,
            "grid_template_columns": null,
            "grid_template_rows": null,
            "height": null,
            "justify_content": null,
            "justify_items": null,
            "left": null,
            "margin": null,
            "max_height": null,
            "max_width": null,
            "min_height": null,
            "min_width": null,
            "object_fit": null,
            "object_position": null,
            "order": null,
            "overflow": null,
            "overflow_x": null,
            "overflow_y": null,
            "padding": null,
            "right": null,
            "top": null,
            "visibility": null,
            "width": null
          }
        },
        "238e4130321547f487533f13bf5a0ff7": {
          "model_module": "@jupyter-widgets/base",
          "model_module_version": "1.2.0",
          "model_name": "LayoutModel",
          "state": {
            "_model_module": "@jupyter-widgets/base",
            "_model_module_version": "1.2.0",
            "_model_name": "LayoutModel",
            "_view_count": null,
            "_view_module": "@jupyter-widgets/base",
            "_view_module_version": "1.2.0",
            "_view_name": "LayoutView",
            "align_content": null,
            "align_items": null,
            "align_self": null,
            "border": null,
            "bottom": null,
            "display": null,
            "flex": null,
            "flex_flow": null,
            "grid_area": null,
            "grid_auto_columns": null,
            "grid_auto_flow": null,
            "grid_auto_rows": null,
            "grid_column": null,
            "grid_gap": null,
            "grid_row": null,
            "grid_template_areas": null,
            "grid_template_columns": null,
            "grid_template_rows": null,
            "height": null,
            "justify_content": null,
            "justify_items": null,
            "left": null,
            "margin": null,
            "max_height": null,
            "max_width": null,
            "min_height": null,
            "min_width": null,
            "object_fit": null,
            "object_position": null,
            "order": null,
            "overflow": null,
            "overflow_x": null,
            "overflow_y": null,
            "padding": null,
            "right": null,
            "top": null,
            "visibility": null,
            "width": null
          }
        },
        "3bb7855b420040dfa9d547ada466b874": {
          "model_module": "@jupyter-widgets/controls",
          "model_module_version": "1.5.0",
          "model_name": "DescriptionStyleModel",
          "state": {
            "_model_module": "@jupyter-widgets/controls",
            "_model_module_version": "1.5.0",
            "_model_name": "DescriptionStyleModel",
            "_view_count": null,
            "_view_module": "@jupyter-widgets/base",
            "_view_module_version": "1.2.0",
            "_view_name": "StyleView",
            "description_width": ""
          }
        },
        "3e06386d222b41ff90fa8f45d07c44d9": {
          "model_module": "@jupyter-widgets/controls",
          "model_module_version": "1.5.0",
          "model_name": "HTMLModel",
          "state": {
            "_dom_classes": [],
            "_model_module": "@jupyter-widgets/controls",
            "_model_module_version": "1.5.0",
            "_model_name": "HTMLModel",
            "_view_count": null,
            "_view_module": "@jupyter-widgets/controls",
            "_view_module_version": "1.5.0",
            "_view_name": "HTMLView",
            "description": "",
            "description_tooltip": null,
            "layout": "IPY_MODEL_6939833818f14bad8e1d16e073989bf8",
            "placeholder": "​",
            "style": "IPY_MODEL_58598f1bef504dceaf208b702371bc2f",
            "value": "Map: 100%"
          }
        },
        "58598f1bef504dceaf208b702371bc2f": {
          "model_module": "@jupyter-widgets/controls",
          "model_module_version": "1.5.0",
          "model_name": "DescriptionStyleModel",
          "state": {
            "_model_module": "@jupyter-widgets/controls",
            "_model_module_version": "1.5.0",
            "_model_name": "DescriptionStyleModel",
            "_view_count": null,
            "_view_module": "@jupyter-widgets/base",
            "_view_module_version": "1.2.0",
            "_view_name": "StyleView",
            "description_width": ""
          }
        },
        "5a6d4a38a7ff4d25babde2bc02e5cdb6": {
          "model_module": "@jupyter-widgets/controls",
          "model_module_version": "1.5.0",
          "model_name": "ProgressStyleModel",
          "state": {
            "_model_module": "@jupyter-widgets/controls",
            "_model_module_version": "1.5.0",
            "_model_name": "ProgressStyleModel",
            "_view_count": null,
            "_view_module": "@jupyter-widgets/base",
            "_view_module_version": "1.2.0",
            "_view_name": "StyleView",
            "bar_color": null,
            "description_width": ""
          }
        },
        "614320b886ad4785bfe36225c5eecbca": {
          "model_module": "@jupyter-widgets/base",
          "model_module_version": "1.2.0",
          "model_name": "LayoutModel",
          "state": {
            "_model_module": "@jupyter-widgets/base",
            "_model_module_version": "1.2.0",
            "_model_name": "LayoutModel",
            "_view_count": null,
            "_view_module": "@jupyter-widgets/base",
            "_view_module_version": "1.2.0",
            "_view_name": "LayoutView",
            "align_content": null,
            "align_items": null,
            "align_self": null,
            "border": null,
            "bottom": null,
            "display": null,
            "flex": null,
            "flex_flow": null,
            "grid_area": null,
            "grid_auto_columns": null,
            "grid_auto_flow": null,
            "grid_auto_rows": null,
            "grid_column": null,
            "grid_gap": null,
            "grid_row": null,
            "grid_template_areas": null,
            "grid_template_columns": null,
            "grid_template_rows": null,
            "height": null,
            "justify_content": null,
            "justify_items": null,
            "left": null,
            "margin": null,
            "max_height": null,
            "max_width": null,
            "min_height": null,
            "min_width": null,
            "object_fit": null,
            "object_position": null,
            "order": null,
            "overflow": null,
            "overflow_x": null,
            "overflow_y": null,
            "padding": null,
            "right": null,
            "top": null,
            "visibility": null,
            "width": null
          }
        },
        "62e4b2ad597d487ea4175ad65e628b6f": {
          "model_module": "@jupyter-widgets/base",
          "model_module_version": "1.2.0",
          "model_name": "LayoutModel",
          "state": {
            "_model_module": "@jupyter-widgets/base",
            "_model_module_version": "1.2.0",
            "_model_name": "LayoutModel",
            "_view_count": null,
            "_view_module": "@jupyter-widgets/base",
            "_view_module_version": "1.2.0",
            "_view_name": "LayoutView",
            "align_content": null,
            "align_items": null,
            "align_self": null,
            "border": null,
            "bottom": null,
            "display": null,
            "flex": null,
            "flex_flow": null,
            "grid_area": null,
            "grid_auto_columns": null,
            "grid_auto_flow": null,
            "grid_auto_rows": null,
            "grid_column": null,
            "grid_gap": null,
            "grid_row": null,
            "grid_template_areas": null,
            "grid_template_columns": null,
            "grid_template_rows": null,
            "height": null,
            "justify_content": null,
            "justify_items": null,
            "left": null,
            "margin": null,
            "max_height": null,
            "max_width": null,
            "min_height": null,
            "min_width": null,
            "object_fit": null,
            "object_position": null,
            "order": null,
            "overflow": null,
            "overflow_x": null,
            "overflow_y": null,
            "padding": null,
            "right": null,
            "top": null,
            "visibility": null,
            "width": null
          }
        },
        "63094e5ec49c482d8b94ba1fa329a9fd": {
          "model_module": "@jupyter-widgets/base",
          "model_module_version": "1.2.0",
          "model_name": "LayoutModel",
          "state": {
            "_model_module": "@jupyter-widgets/base",
            "_model_module_version": "1.2.0",
            "_model_name": "LayoutModel",
            "_view_count": null,
            "_view_module": "@jupyter-widgets/base",
            "_view_module_version": "1.2.0",
            "_view_name": "LayoutView",
            "align_content": null,
            "align_items": null,
            "align_self": null,
            "border": null,
            "bottom": null,
            "display": null,
            "flex": null,
            "flex_flow": null,
            "grid_area": null,
            "grid_auto_columns": null,
            "grid_auto_flow": null,
            "grid_auto_rows": null,
            "grid_column": null,
            "grid_gap": null,
            "grid_row": null,
            "grid_template_areas": null,
            "grid_template_columns": null,
            "grid_template_rows": null,
            "height": null,
            "justify_content": null,
            "justify_items": null,
            "left": null,
            "margin": null,
            "max_height": null,
            "max_width": null,
            "min_height": null,
            "min_width": null,
            "object_fit": null,
            "object_position": null,
            "order": null,
            "overflow": null,
            "overflow_x": null,
            "overflow_y": null,
            "padding": null,
            "right": null,
            "top": null,
            "visibility": null,
            "width": null
          }
        },
        "658d3a10031f41f7b17a2b1acd9a3ad7": {
          "model_module": "@jupyter-widgets/controls",
          "model_module_version": "1.5.0",
          "model_name": "FloatProgressModel",
          "state": {
            "_dom_classes": [],
            "_model_module": "@jupyter-widgets/controls",
            "_model_module_version": "1.5.0",
            "_model_name": "FloatProgressModel",
            "_view_count": null,
            "_view_module": "@jupyter-widgets/controls",
            "_view_module_version": "1.5.0",
            "_view_name": "ProgressView",
            "bar_style": "",
            "description": "",
            "description_tooltip": null,
            "layout": "IPY_MODEL_62e4b2ad597d487ea4175ad65e628b6f",
            "max": 2300,
            "min": 0,
            "orientation": "horizontal",
            "style": "IPY_MODEL_5a6d4a38a7ff4d25babde2bc02e5cdb6",
            "value": 2300
          }
        },
        "6939833818f14bad8e1d16e073989bf8": {
          "model_module": "@jupyter-widgets/base",
          "model_module_version": "1.2.0",
          "model_name": "LayoutModel",
          "state": {
            "_model_module": "@jupyter-widgets/base",
            "_model_module_version": "1.2.0",
            "_model_name": "LayoutModel",
            "_view_count": null,
            "_view_module": "@jupyter-widgets/base",
            "_view_module_version": "1.2.0",
            "_view_name": "LayoutView",
            "align_content": null,
            "align_items": null,
            "align_self": null,
            "border": null,
            "bottom": null,
            "display": null,
            "flex": null,
            "flex_flow": null,
            "grid_area": null,
            "grid_auto_columns": null,
            "grid_auto_flow": null,
            "grid_auto_rows": null,
            "grid_column": null,
            "grid_gap": null,
            "grid_row": null,
            "grid_template_areas": null,
            "grid_template_columns": null,
            "grid_template_rows": null,
            "height": null,
            "justify_content": null,
            "justify_items": null,
            "left": null,
            "margin": null,
            "max_height": null,
            "max_width": null,
            "min_height": null,
            "min_width": null,
            "object_fit": null,
            "object_position": null,
            "order": null,
            "overflow": null,
            "overflow_x": null,
            "overflow_y": null,
            "padding": null,
            "right": null,
            "top": null,
            "visibility": null,
            "width": null
          }
        },
        "827af3099ba1421ea9dd02bcb83c6bf1": {
          "model_module": "@jupyter-widgets/controls",
          "model_module_version": "1.5.0",
          "model_name": "HTMLModel",
          "state": {
            "_dom_classes": [],
            "_model_module": "@jupyter-widgets/controls",
            "_model_module_version": "1.5.0",
            "_model_name": "HTMLModel",
            "_view_count": null,
            "_view_module": "@jupyter-widgets/controls",
            "_view_module_version": "1.5.0",
            "_view_name": "HTMLView",
            "description": "",
            "description_tooltip": null,
            "layout": "IPY_MODEL_614320b886ad4785bfe36225c5eecbca",
            "placeholder": "​",
            "style": "IPY_MODEL_9ba2023fc84d425bac55eb86d32417ef",
            "value": " 2300/2300 [25:28&lt;00:00,  2.35it/s]"
          }
        },
        "88478a07862d4d33ad5e922f9aedd5f3": {
          "model_module": "@jupyter-widgets/controls",
          "model_module_version": "1.5.0",
          "model_name": "ProgressStyleModel",
          "state": {
            "_model_module": "@jupyter-widgets/controls",
            "_model_module_version": "1.5.0",
            "_model_name": "ProgressStyleModel",
            "_view_count": null,
            "_view_module": "@jupyter-widgets/base",
            "_view_module_version": "1.2.0",
            "_view_name": "StyleView",
            "bar_color": null,
            "description_width": ""
          }
        },
        "8bd7fdb6a1b24005a3427250a44a1895": {
          "model_module": "@jupyter-widgets/base",
          "model_module_version": "1.2.0",
          "model_name": "LayoutModel",
          "state": {
            "_model_module": "@jupyter-widgets/base",
            "_model_module_version": "1.2.0",
            "_model_name": "LayoutModel",
            "_view_count": null,
            "_view_module": "@jupyter-widgets/base",
            "_view_module_version": "1.2.0",
            "_view_name": "LayoutView",
            "align_content": null,
            "align_items": null,
            "align_self": null,
            "border": null,
            "bottom": null,
            "display": null,
            "flex": null,
            "flex_flow": null,
            "grid_area": null,
            "grid_auto_columns": null,
            "grid_auto_flow": null,
            "grid_auto_rows": null,
            "grid_column": null,
            "grid_gap": null,
            "grid_row": null,
            "grid_template_areas": null,
            "grid_template_columns": null,
            "grid_template_rows": null,
            "height": null,
            "justify_content": null,
            "justify_items": null,
            "left": null,
            "margin": null,
            "max_height": null,
            "max_width": null,
            "min_height": null,
            "min_width": null,
            "object_fit": null,
            "object_position": null,
            "order": null,
            "overflow": null,
            "overflow_x": null,
            "overflow_y": null,
            "padding": null,
            "right": null,
            "top": null,
            "visibility": null,
            "width": null
          }
        },
        "8fd6c956c07b4f45ae406f8d4dcd7398": {
          "model_module": "@jupyter-widgets/controls",
          "model_module_version": "1.5.0",
          "model_name": "HBoxModel",
          "state": {
            "_dom_classes": [],
            "_model_module": "@jupyter-widgets/controls",
            "_model_module_version": "1.5.0",
            "_model_name": "HBoxModel",
            "_view_count": null,
            "_view_module": "@jupyter-widgets/controls",
            "_view_module_version": "1.5.0",
            "_view_name": "HBoxView",
            "box_style": "",
            "children": [
              "IPY_MODEL_0bd8430020a244d399f07ec7d6951bb6",
              "IPY_MODEL_658d3a10031f41f7b17a2b1acd9a3ad7",
              "IPY_MODEL_827af3099ba1421ea9dd02bcb83c6bf1"
            ],
            "layout": "IPY_MODEL_238e4130321547f487533f13bf5a0ff7"
          }
        },
        "9ba2023fc84d425bac55eb86d32417ef": {
          "model_module": "@jupyter-widgets/controls",
          "model_module_version": "1.5.0",
          "model_name": "DescriptionStyleModel",
          "state": {
            "_model_module": "@jupyter-widgets/controls",
            "_model_module_version": "1.5.0",
            "_model_name": "DescriptionStyleModel",
            "_view_count": null,
            "_view_module": "@jupyter-widgets/base",
            "_view_module_version": "1.2.0",
            "_view_name": "StyleView",
            "description_width": ""
          }
        },
        "a87362e7e46e46b28ac77254df0601c3": {
          "model_module": "@jupyter-widgets/controls",
          "model_module_version": "1.5.0",
          "model_name": "HTMLModel",
          "state": {
            "_dom_classes": [],
            "_model_module": "@jupyter-widgets/controls",
            "_model_module_version": "1.5.0",
            "_model_name": "HTMLModel",
            "_view_count": null,
            "_view_module": "@jupyter-widgets/controls",
            "_view_module_version": "1.5.0",
            "_view_name": "HTMLView",
            "description": "",
            "description_tooltip": null,
            "layout": "IPY_MODEL_63094e5ec49c482d8b94ba1fa329a9fd",
            "placeholder": "​",
            "style": "IPY_MODEL_3bb7855b420040dfa9d547ada466b874",
            "value": " 408/408 [00:03&lt;00:00, 111.88 examples/s]"
          }
        },
        "c2115ca152dd47b4aba17849552d92e5": {
          "model_module": "@jupyter-widgets/controls",
          "model_module_version": "1.5.0",
          "model_name": "DescriptionStyleModel",
          "state": {
            "_model_module": "@jupyter-widgets/controls",
            "_model_module_version": "1.5.0",
            "_model_name": "DescriptionStyleModel",
            "_view_count": null,
            "_view_module": "@jupyter-widgets/base",
            "_view_module_version": "1.2.0",
            "_view_name": "StyleView",
            "description_width": ""
          }
        },
        "db0846d8b8c74841914db260cfbd0621": {
          "model_module": "@jupyter-widgets/controls",
          "model_module_version": "1.5.0",
          "model_name": "HBoxModel",
          "state": {
            "_dom_classes": [],
            "_model_module": "@jupyter-widgets/controls",
            "_model_module_version": "1.5.0",
            "_model_name": "HBoxModel",
            "_view_count": null,
            "_view_module": "@jupyter-widgets/controls",
            "_view_module_version": "1.5.0",
            "_view_name": "HBoxView",
            "box_style": "",
            "children": [
              "IPY_MODEL_3e06386d222b41ff90fa8f45d07c44d9",
              "IPY_MODEL_e746b6bc031a46728f7993d1e52f4673",
              "IPY_MODEL_a87362e7e46e46b28ac77254df0601c3"
            ],
            "layout": "IPY_MODEL_175730616b634d0686970a58514dee87"
          }
        },
        "e746b6bc031a46728f7993d1e52f4673": {
          "model_module": "@jupyter-widgets/controls",
          "model_module_version": "1.5.0",
          "model_name": "FloatProgressModel",
          "state": {
            "_dom_classes": [],
            "_model_module": "@jupyter-widgets/controls",
            "_model_module_version": "1.5.0",
            "_model_name": "FloatProgressModel",
            "_view_count": null,
            "_view_module": "@jupyter-widgets/controls",
            "_view_module_version": "1.5.0",
            "_view_name": "ProgressView",
            "bar_style": "success",
            "description": "",
            "description_tooltip": null,
            "layout": "IPY_MODEL_8bd7fdb6a1b24005a3427250a44a1895",
            "max": 408,
            "min": 0,
            "orientation": "horizontal",
            "style": "IPY_MODEL_88478a07862d4d33ad5e922f9aedd5f3",
            "value": 408
          }
        }
      }
    }
  },
  "nbformat": 4,
  "nbformat_minor": 0
}
